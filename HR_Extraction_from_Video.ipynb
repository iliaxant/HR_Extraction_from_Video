{
  "nbformat": 4,
  "nbformat_minor": 0,
  "metadata": {
    "colab": {
      "provenance": [],
      "authorship_tag": "ABX9TyOxIhntr0FaLwZEVpcPH+qc",
      "include_colab_link": true
    },
    "kernelspec": {
      "name": "python3",
      "display_name": "Python 3"
    },
    "language_info": {
      "name": "python"
    }
  },
  "cells": [
    {
      "cell_type": "markdown",
      "metadata": {
        "id": "view-in-github",
        "colab_type": "text"
      },
      "source": [
        "<a href=\"https://colab.research.google.com/github/iliaxant/HR_Extraction_from_Video/blob/main/HR_Extraction_from_Video.ipynb\" target=\"_parent\"><img src=\"https://colab.research.google.com/assets/colab-badge.svg\" alt=\"Open In Colab\"/></a>"
      ]
    },
    {
      "cell_type": "markdown",
      "source": [
        "# **Εκτίμηση καρδιακής συχνότητας από βίντεο (πρόσωπο ή δάχτυλο) - Ψηφιακή Επεξεργασία Εικόνας**\n",
        "\n",
        "## Εξαμηνιαία Εργασία - Ακαδημαικό έτος 2025-2026\n",
        "\n",
        "## Ηλίας Ξανθόπουλος 58545\n",
        "\n",
        "## GitHub Repo: https://github.com/iliaxant/HR_Extraction_from_Video"
      ],
      "metadata": {
        "id": "Du9bjzC955Rt"
      }
    },
    {
      "cell_type": "markdown",
      "source": [
        "## **Part 0**: Set-Up"
      ],
      "metadata": {
        "id": "8rIrYjKY6_XU"
      }
    },
    {
      "cell_type": "markdown",
      "source": [
        "1) Mount Google drive and load dataset. (Change data_dir to match your dataset directory)."
      ],
      "metadata": {
        "id": "XS50L8sf6rTX"
      }
    },
    {
      "cell_type": "code",
      "execution_count": null,
      "metadata": {
        "id": "rq_o3pUG5myc"
      },
      "outputs": [],
      "source": [
        "from google.colab import drive\n",
        "\n",
        "drive.mount('/content/drive')"
      ]
    },
    {
      "cell_type": "code",
      "source": [
        "import shutil\n",
        "import os\n",
        "\n",
        "data_dir = '/content/drive/MyDrive/DIP/2nd_Ex/'\n",
        "source_files = os.listdir(data_dir)\n",
        "for source_file in source_files:\n",
        "  source_dir = os.path.join(data_dir, source_file)\n",
        "  shutil.copy(source_dir,'/content/')\n",
        "\n",
        "print(\"Images copied successfully to /content directory.\")"
      ],
      "metadata": {
        "id": "85WFsShc549V"
      },
      "execution_count": null,
      "outputs": []
    },
    {
      "cell_type": "markdown",
      "source": [
        "2) Install and import libraries."
      ],
      "metadata": {
        "id": "ggePmhEy7HnC"
      }
    },
    {
      "cell_type": "code",
      "source": [],
      "metadata": {
        "id": "a6JtAjzW7IWq"
      },
      "execution_count": null,
      "outputs": []
    },
    {
      "cell_type": "code",
      "source": [],
      "metadata": {
        "id": "mHp0E7Ld7IoS"
      },
      "execution_count": null,
      "outputs": []
    }
  ]
}